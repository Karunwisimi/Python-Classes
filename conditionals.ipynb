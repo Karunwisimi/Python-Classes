{
 "cells": [
  {
   "cell_type": "code",
   "execution_count": 9,
   "id": "3273c943-0760-4673-9811-717c97eab394",
   "metadata": {},
   "outputs": [
    {
     "name": "stdout",
     "output_type": "stream",
     "text": [
      "The sum of list2 is 450.\n"
     ]
    }
   ],
   "source": [
    "# Finding the sum of a list of numbers\n",
    "list2 = [10, 20, 30, 40, 50, 60, 70, 80, 90]\n",
    "sum  = 0 \n",
    "for num in list2:\n",
    "    sum = sum + num\n",
    "print(f\"The sum of list2 is {sum}.\")\n"
   ]
  },
  {
   "cell_type": "code",
   "execution_count": 17,
   "id": "168b3cf3-f484-42e2-a3cc-719bc76fdc5b",
   "metadata": {},
   "outputs": [
    {
     "name": "stdout",
     "output_type": "stream",
     "text": [
      "The sum of tuple1 is 550.\n"
     ]
    }
   ],
   "source": [
    "# For loop using a tuple.\n",
    "tuple1 = (10, 20, 30, 40, 50, 60, 70, 80, 90, 100)\n",
    "sum  = 0 \n",
    "for num in tuple1:\n",
    "    sum = sum + num\n",
    "print(f\"The sum of tuple1 is {sum}.\")"
   ]
  },
  {
   "cell_type": "code",
   "execution_count": 21,
   "id": "302dc870-ef43-4146-9ec4-c538d5d4efcb",
   "metadata": {},
   "outputs": [
    {
     "name": "stdout",
     "output_type": "stream",
     "text": [
      "1\n",
      "2\n",
      "3\n",
      "4\n"
     ]
    }
   ],
   "source": [
    "# Using the range function\n",
    "for num in range(1,5):\n",
    "    print(num)"
   ]
  },
  {
   "cell_type": "code",
   "execution_count": 37,
   "id": "4619ef56-f632-4877-9e16-1a987a88db75",
   "metadata": {},
   "outputs": [
    {
     "name": "stdin",
     "output_type": "stream",
     "text": [
      "Enter your number: 3\n"
     ]
    },
    {
     "name": "stdout",
     "output_type": "stream",
     "text": [
      "3\n",
      "6\n",
      "9\n",
      "12\n",
      "15\n",
      "18\n",
      "21\n",
      "24\n",
      "27\n",
      "30\n",
      "33\n",
      "36\n"
     ]
    }
   ],
   "source": [
    "# Using the range function to create a multiplication table.\n",
    "number = int(input(\"Enter your number:\"))\n",
    "for num in range(1,13):\n",
    "    print(number * num)"
   ]
  },
  {
   "cell_type": "code",
   "execution_count": 41,
   "id": "eb469fd7-36ad-4802-a0d2-ebb54d79411a",
   "metadata": {},
   "outputs": [
    {
     "name": "stdout",
     "output_type": "stream",
     "text": [
      "Python\n",
      "P\n",
      "y\n",
      "t\n",
      "h\n",
      "o\n",
      "n\n",
      "SQL\n",
      "S\n",
      "Q\n",
      "L\n",
      "Java\n",
      "J\n",
      "a\n",
      "v\n",
      "a\n",
      "Excel\n",
      "E\n",
      "x\n",
      "c\n",
      "e\n",
      "l\n",
      "HTML\n",
      "H\n",
      "T\n",
      "M\n",
      "L\n",
      "Ruby\n",
      "R\n",
      "u\n",
      "b\n",
      "y\n"
     ]
    }
   ],
   "source": [
    "# Using a nested loops in a list\n",
    "list3 = ['Python', 'SQL', 'Java', 'Excel', 'HTML', 'Ruby'] \n",
    "\n",
    "for courses in list3:\n",
    "    print(courses)\n",
    "    for letters in courses:\n",
    "        print(letters)"
   ]
  },
  {
   "cell_type": "code",
   "execution_count": 59,
   "id": "624958d3-8e0c-44b4-88bc-37e274f6842c",
   "metadata": {},
   "outputs": [
    {
     "name": "stdout",
     "output_type": "stream",
     "text": [
      "1\n",
      "2\n",
      "3\n",
      "4\n"
     ]
    }
   ],
   "source": [
    "# Using the break statement \n",
    "\n",
    "for i in range (1,20):\n",
    "    if i == 5:\n",
    "        break\n",
    "    else:\n",
    "        print(i)"
   ]
  },
  {
   "cell_type": "code",
   "execution_count": 69,
   "id": "7cf98d9d-64d6-461e-bf4f-b48a453559b8",
   "metadata": {},
   "outputs": [
    {
     "name": "stdout",
     "output_type": "stream",
     "text": [
      "1\n",
      "2\n",
      "3\n",
      "4\n",
      "6\n",
      "7\n",
      "8\n"
     ]
    }
   ],
   "source": [
    "# Using the continue statement \n",
    "\n",
    "for i in range (1,9):\n",
    "    if i == 5:\n",
    "        continue\n",
    "    else:\n",
    "        print(i)"
   ]
  },
  {
   "cell_type": "code",
   "execution_count": 77,
   "id": "4704663b-b2b8-4fbe-bbc1-4dbf7c2beaeb",
   "metadata": {},
   "outputs": [
    {
     "name": "stdout",
     "output_type": "stream",
     "text": [
      "['a', 'b', 'c', 'd', 's', 'i']\n"
     ]
    }
   ],
   "source": [
    "alpha = ['a', 'b', 'c','d']\n",
    "alpha += 'si'\n",
    "\n",
    "print(alpha)"
   ]
  },
  {
   "cell_type": "code",
   "execution_count": 3,
   "id": "32589b9b-f25b-403f-a3ea-1f3e66b21f45",
   "metadata": {},
   "outputs": [
    {
     "name": "stdout",
     "output_type": "stream",
     "text": [
      "1\n",
      "2\n",
      "3\n",
      "4\n",
      "5\n",
      "6\n",
      "7\n",
      "8\n",
      "9\n",
      "10\n"
     ]
    }
   ],
   "source": [
    "# Using while loop\n",
    "i = 0\n",
    "\n",
    "while i < 10:\n",
    "    i += 1\n",
    "    print(i)\n",
    "    print"
   ]
  },
  {
   "cell_type": "code",
   "execution_count": 9,
   "id": "21b6e7a6-7312-4097-83f3-2d7d07607be2",
   "metadata": {},
   "outputs": [
    {
     "name": "stdout",
     "output_type": "stream",
     "text": [
      "1\n",
      "2\n",
      "3\n",
      "4\n",
      "5\n"
     ]
    }
   ],
   "source": [
    "# Print numbers from 1 to 5 using a while loop\n",
    "count = 1\n",
    "while count <= 5:\n",
    "    print(count)\n",
    "    count += 1\n"
   ]
  },
  {
   "cell_type": "code",
   "execution_count": 13,
   "id": "99d709e8-4a83-42ae-86cd-42a23cbb328b",
   "metadata": {},
   "outputs": [
    {
     "name": "stdout",
     "output_type": "stream",
     "text": [
      "Good Count\n",
      "Good Count\n",
      "Good Count\n",
      "Good Count\n",
      "Good Count\n",
      "Good Count\n",
      "Perfect\n"
     ]
    }
   ],
   "source": [
    "count = 0\n",
    "\n",
    "while count <=5:\n",
    "    print(\"Good Count\")\n",
    "    count += 1\n",
    "print(\"Perfect\")"
   ]
  },
  {
   "cell_type": "code",
   "execution_count": 18,
   "id": "5ad84a41-b19a-4524-b33c-42b87c3945b9",
   "metadata": {},
   "outputs": [
    {
     "name": "stdout",
     "output_type": "stream",
     "text": [
      "Enter your guess below.\n"
     ]
    },
    {
     "name": "stdin",
     "output_type": "stream",
     "text": [
      "Input your guess Cyclobold\n"
     ]
    },
    {
     "name": "stdout",
     "output_type": "stream",
     "text": [
      "Your guess is correct!\n"
     ]
    }
   ],
   "source": [
    "# Using a break statement in a while loop\n",
    "while True:\n",
    "    print(\"Enter your guess below.\")\n",
    "    guess = input(\"Input your guess\")\n",
    "    if guess == \"Cyclobold\":\n",
    "        break\n",
    "print(\"Your guess is correct!\")    "
   ]
  },
  {
   "cell_type": "code",
   "execution_count": 112,
   "id": "af5819d4-a03d-4431-b8d4-2e05bfec51c7",
   "metadata": {
    "scrolled": true
   },
   "outputs": [
    {
     "name": "stdin",
     "output_type": "stream",
     "text": [
      "Enter your name:  hh'\n"
     ]
    },
    {
     "name": "stdout",
     "output_type": "stream",
     "text": [
      "Try again, you entered the wrong name\n"
     ]
    }
   ],
   "source": [
    "# If and else statements\n",
    "name = input('Enter your name: ')\n",
    "\n",
    "if name == 'Ade':\n",
    "    print(\"Correct!\")\n",
    "else:\n",
    "    print(\"Try again, you entered the wrong name\")"
   ]
  },
  {
   "cell_type": "code",
   "execution_count": 78,
   "id": "3eb0cd96-6bc5-4e99-b233-6bc325443044",
   "metadata": {},
   "outputs": [
    {
     "name": "stdin",
     "output_type": "stream",
     "text": [
      "Enter a number 88\n"
     ]
    },
    {
     "name": "stdout",
     "output_type": "stream",
     "text": [
      "Number 88 is greater than 50\n"
     ]
    }
   ],
   "source": [
    "x = int(input(\"Enter a number\"))\n",
    "\n",
    "if x  > 50:\n",
    "   print(f\"Number {x} is greater than 50\")\n",
    "else:\n",
    "    print(f\"The number {x} is less than or equal to 50\")"
   ]
  },
  {
   "cell_type": "code",
   "execution_count": 92,
   "id": "d8cec5a6-ab99-460c-8657-9f07b1387926",
   "metadata": {},
   "outputs": [
    {
     "name": "stdin",
     "output_type": "stream",
     "text": [
      "Tell us your age. 18\n"
     ]
    },
    {
     "name": "stdout",
     "output_type": "stream",
     "text": [
      "You are old enough to vote!\n"
     ]
    }
   ],
   "source": [
    "age = int(input(\"Tell us your age.\"))\n",
    "\n",
    "if age >= 18:\n",
    "    print(\"You are old enough to vote!\")\n",
    "else:\n",
    "    print(\"You are not old enough to vote.\") \n"
   ]
  },
  {
   "cell_type": "code",
   "execution_count": 116,
   "id": "12d65aa3-dd76-40b9-afcf-8fc1ef668b72",
   "metadata": {},
   "outputs": [
    {
     "name": "stdin",
     "output_type": "stream",
     "text": [
      "Tell us your age:  55\n"
     ]
    },
    {
     "name": "stdout",
     "output_type": "stream",
     "text": [
      "You are old enough to vote and drive.\n"
     ]
    }
   ],
   "source": [
    "# If, elif and else statements\n",
    "\n",
    "age = int(input(\"Tell us your age: \"))\n",
    "\n",
    "if age >= 70:\n",
    "    print(\"You can vote, but can not drive\")\n",
    "elif age >= 18:\n",
    "    print(\"You are old enough to vote and drive.\")\n",
    "elif age >= 16:\n",
    "    print(\"You can drive but cannot vote.\")\n",
    "else:\n",
    "    print(\"You cannot drive or vote yet.\") "
   ]
  },
  {
   "cell_type": "code",
   "execution_count": 136,
   "id": "cbc29aca-4b85-463b-93a8-356c2ed073a4",
   "metadata": {},
   "outputs": [
    {
     "name": "stdin",
     "output_type": "stream",
     "text": [
      "Tell us your age:  16\n",
      "Tell us your gender:  male\n"
     ]
    },
    {
     "name": "stdout",
     "output_type": "stream",
     "text": [
      "You are not old enough to vote yet.\n"
     ]
    }
   ],
   "source": [
    "# Nested if statements\n",
    "\n",
    "age = int(input(\"Tell us your age: \"))\n",
    "gender = input(\"Tell us your gender: \")\n",
    "\n",
    "if age >= 18:\n",
    "    if gender == \"male\":\n",
    "        print(\"You are a male and old enough to vote.\")\n",
    "    else:\n",
    "        print(\"You are a female and old enough to vote.\")\n",
    "else:\n",
    "    print(\"You are not old enough to vote yet.\")\n"
   ]
  }
 ],
 "metadata": {
  "kernelspec": {
   "display_name": "Python 3 (ipykernel)",
   "language": "python",
   "name": "python3"
  },
  "language_info": {
   "codemirror_mode": {
    "name": "ipython",
    "version": 3
   },
   "file_extension": ".py",
   "mimetype": "text/x-python",
   "name": "python",
   "nbconvert_exporter": "python",
   "pygments_lexer": "ipython3",
   "version": "3.12.4"
  }
 },
 "nbformat": 4,
 "nbformat_minor": 5
}
