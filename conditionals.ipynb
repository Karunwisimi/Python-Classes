{
 "cells": [
  {
   "cell_type": "code",
   "execution_count": 9,
   "id": "3273c943-0760-4673-9811-717c97eab394",
   "metadata": {},
   "outputs": [
    {
     "name": "stdout",
     "output_type": "stream",
     "text": [
      "The sum of list2 is 450.\n"
     ]
    }
   ],
   "source": [
    "# Finding the sum of a list of numbers\n",
    "list2 = [10, 20, 30, 40, 50, 60, 70, 80, 90]\n",
    "sum  = 0 \n",
    "for num in list2:\n",
    "    sum = sum + num\n",
    "print(f\"The sum of list2 is {sum}.\")\n"
   ]
  },
  {
   "cell_type": "code",
   "execution_count": 17,
   "id": "168b3cf3-f484-42e2-a3cc-719bc76fdc5b",
   "metadata": {},
   "outputs": [
    {
     "name": "stdout",
     "output_type": "stream",
     "text": [
      "The sum of tuple1 is 550.\n"
     ]
    }
   ],
   "source": [
    "# For loop using a tuple.\n",
    "tuple1 = (10, 20, 30, 40, 50, 60, 70, 80, 90, 100)\n",
    "sum  = 0 \n",
    "for num in tuple1:\n",
    "    sum = sum + num\n",
    "print(f\"The sum of tuple1 is {sum}.\")"
   ]
  },
  {
   "cell_type": "code",
   "execution_count": 21,
   "id": "302dc870-ef43-4146-9ec4-c538d5d4efcb",
   "metadata": {},
   "outputs": [
    {
     "name": "stdout",
     "output_type": "stream",
     "text": [
      "1\n",
      "2\n",
      "3\n",
      "4\n"
     ]
    }
   ],
   "source": [
    "# Using the range function\n",
    "for num in range(1,5):\n",
    "    print(num)"
   ]
  },
  {
   "cell_type": "code",
   "execution_count": 37,
   "id": "4619ef56-f632-4877-9e16-1a987a88db75",
   "metadata": {},
   "outputs": [
    {
     "name": "stdin",
     "output_type": "stream",
     "text": [
      "Enter your number: 3\n"
     ]
    },
    {
     "name": "stdout",
     "output_type": "stream",
     "text": [
      "3\n",
      "6\n",
      "9\n",
      "12\n",
      "15\n",
      "18\n",
      "21\n",
      "24\n",
      "27\n",
      "30\n",
      "33\n",
      "36\n"
     ]
    }
   ],
   "source": [
    "# Using the range function to create a multiplication table.\n",
    "number = int(input(\"Enter your number:\"))\n",
    "for num in range(1,13):\n",
    "    print(number * num)"
   ]
  },
  {
   "cell_type": "code",
   "execution_count": 41,
   "id": "eb469fd7-36ad-4802-a0d2-ebb54d79411a",
   "metadata": {},
   "outputs": [
    {
     "name": "stdout",
     "output_type": "stream",
     "text": [
      "Python\n",
      "P\n",
      "y\n",
      "t\n",
      "h\n",
      "o\n",
      "n\n",
      "SQL\n",
      "S\n",
      "Q\n",
      "L\n",
      "Java\n",
      "J\n",
      "a\n",
      "v\n",
      "a\n",
      "Excel\n",
      "E\n",
      "x\n",
      "c\n",
      "e\n",
      "l\n",
      "HTML\n",
      "H\n",
      "T\n",
      "M\n",
      "L\n",
      "Ruby\n",
      "R\n",
      "u\n",
      "b\n",
      "y\n"
     ]
    }
   ],
   "source": [
    "# Using a nested loops in a list\n",
    "list3 = ['Python', 'SQL', 'Java', 'Excel', 'HTML', 'Ruby'] \n",
    "\n",
    "for courses in list3:\n",
    "    print(courses)\n",
    "    for letters in courses:\n",
    "        print(letters)"
   ]
  },
  {
   "cell_type": "code",
   "execution_count": 59,
   "id": "624958d3-8e0c-44b4-88bc-37e274f6842c",
   "metadata": {},
   "outputs": [
    {
     "name": "stdout",
     "output_type": "stream",
     "text": [
      "1\n",
      "2\n",
      "3\n",
      "4\n"
     ]
    }
   ],
   "source": [
    "# Using the break statement \n",
    "\n",
    "for i in range (1,20):\n",
    "    if i == 5:\n",
    "        break\n",
    "    else:\n",
    "        print(i)"
   ]
  },
  {
   "cell_type": "code",
   "execution_count": 69,
   "id": "7cf98d9d-64d6-461e-bf4f-b48a453559b8",
   "metadata": {},
   "outputs": [
    {
     "name": "stdout",
     "output_type": "stream",
     "text": [
      "1\n",
      "2\n",
      "3\n",
      "4\n",
      "6\n",
      "7\n",
      "8\n"
     ]
    }
   ],
   "source": [
    "# Using the continue statement \n",
    "\n",
    "for i in range (1,9):\n",
    "    if i == 5:\n",
    "        continue\n",
    "    else:\n",
    "        print(i)"
   ]
  },
  {
   "cell_type": "code",
   "execution_count": 77,
   "id": "4704663b-b2b8-4fbe-bbc1-4dbf7c2beaeb",
   "metadata": {},
   "outputs": [
    {
     "name": "stdout",
     "output_type": "stream",
     "text": [
      "['a', 'b', 'c', 'd', 's', 'i']\n"
     ]
    }
   ],
   "source": [
    "alpha = ['a', 'b', 'c','d']\n",
    "alpha += 'si'\n",
    "\n",
    "print(alpha)"
   ]
  },
  {
   "cell_type": "code",
   "execution_count": 18,
   "id": "32589b9b-f25b-403f-a3ea-1f3e66b21f45",
   "metadata": {},
   "outputs": [
    {
     "name": "stdin",
     "output_type": "stream",
     "text": [
      "Enter your number: 4\n"
     ]
    },
    {
     "name": "stdout",
     "output_type": "stream",
     "text": [
      "1\n",
      "2\n",
      "3\n",
      "4\n"
     ]
    }
   ],
   "source": [
    "# # Using while loop\n",
    "# i = 0\n",
    "\n",
    "# while i < 10:\n",
    "#     # i += 1\n",
    "#     i = i + 1\n",
    "#     print(i)\n",
    "\n",
    "num = int(input(\"Enter your number:\" ))\n",
    "i = 0\n",
    "\n",
    "while i < num:\n",
    "    i += 1\n",
    "    # i = i + 1\n",
    "    print(i)\n",
    "    print"
   ]
  },
  {
   "cell_type": "code",
   "execution_count": 4,
   "id": "21b6e7a6-7312-4097-83f3-2d7d07607be2",
   "metadata": {},
   "outputs": [
    {
     "name": "stdout",
     "output_type": "stream",
     "text": [
      "1\n",
      "2\n",
      "3\n",
      "4\n",
      "5\n"
     ]
    }
   ],
   "source": [
    "# Print numbers from 1 to 5 using a while loop\n",
    "count = 1\n",
    "while count <= 5:\n",
    "    print(count)\n",
    "    count += 1\n"
   ]
  },
  {
   "cell_type": "code",
   "execution_count": 24,
   "id": "99d709e8-4a83-42ae-86cd-42a23cbb328b",
   "metadata": {},
   "outputs": [
    {
     "name": "stdout",
     "output_type": "stream",
     "text": [
      "Good Count\n",
      "Good Count\n",
      "Good Count\n",
      "Good Count\n",
      "Good Count\n",
      "Good Count\n",
      "Perfect\n"
     ]
    }
   ],
   "source": [
    "count = 0\n",
    "\n",
    "while count <= 5:\n",
    "    print(\"Good Count\")\n",
    "    count += 1\n",
    "print(\"Perfect\")"
   ]
  },
  {
   "cell_type": "code",
   "execution_count": 42,
   "id": "5ad84a41-b19a-4524-b33c-42b87c3945b9",
   "metadata": {},
   "outputs": [
    {
     "name": "stdout",
     "output_type": "stream",
     "text": [
      "Enter your guess below.\n"
     ]
    },
    {
     "name": "stdin",
     "output_type": "stream",
     "text": [
      "Input your guess Cyclobold\n"
     ]
    },
    {
     "name": "stdout",
     "output_type": "stream",
     "text": [
      "Your guess is correct!\n"
     ]
    }
   ],
   "source": [
    "# Using a break statement in a while loop\n",
    "while True:\n",
    "    print(\"Enter your guess below.\")\n",
    "    guess = input(\"Input your guess\")\n",
    "    if guess == \"Cyclobold\":\n",
    "        break\n",
    "    else:\n",
    "        print(\"Wrong guess\")\n",
    "        continue\n",
    "print(\"Your guess is correct!\")    "
   ]
  },
  {
   "cell_type": "code",
   "execution_count": 30,
   "id": "af5819d4-a03d-4431-b8d4-2e05bfec51c7",
   "metadata": {
    "scrolled": true
   },
   "outputs": [
    {
     "name": "stdin",
     "output_type": "stream",
     "text": [
      "Enter your name:  ww\n"
     ]
    },
    {
     "name": "stdout",
     "output_type": "stream",
     "text": [
      "Try again, you entered the wrong name\n"
     ]
    }
   ],
   "source": [
    "# If and else statements\n",
    "name = input('Enter your name: ')\n",
    "\n",
    "if name == 'Ade':\n",
    "    print(\"Correct!\")\n",
    "else:\n",
    "    print(\"Try again, you entered the wrong name\")"
   ]
  },
  {
   "cell_type": "code",
   "execution_count": 78,
   "id": "3eb0cd96-6bc5-4e99-b233-6bc325443044",
   "metadata": {},
   "outputs": [
    {
     "name": "stdin",
     "output_type": "stream",
     "text": [
      "Enter a number 88\n"
     ]
    },
    {
     "name": "stdout",
     "output_type": "stream",
     "text": [
      "Number 88 is greater than 50\n"
     ]
    }
   ],
   "source": [
    "x = int(input(\"Enter a number\"))\n",
    "\n",
    "if x  > 50:\n",
    "   print(f\"Number {x} is greater than 50\")\n",
    "else:\n",
    "    print(f\"The number {x} is less than or equal to 50\")"
   ]
  },
  {
   "cell_type": "code",
   "execution_count": 92,
   "id": "d8cec5a6-ab99-460c-8657-9f07b1387926",
   "metadata": {},
   "outputs": [
    {
     "name": "stdin",
     "output_type": "stream",
     "text": [
      "Tell us your age. 18\n"
     ]
    },
    {
     "name": "stdout",
     "output_type": "stream",
     "text": [
      "You are old enough to vote!\n"
     ]
    }
   ],
   "source": [
    "age = int(input(\"Tell us your age.\"))\n",
    "\n",
    "if age >= 18:\n",
    "    print(\"You are old enough to vote!\")\n",
    "else:\n",
    "    print(\"You are not old enough to vote.\") \n"
   ]
  },
  {
   "cell_type": "code",
   "execution_count": 116,
   "id": "12d65aa3-dd76-40b9-afcf-8fc1ef668b72",
   "metadata": {},
   "outputs": [
    {
     "name": "stdin",
     "output_type": "stream",
     "text": [
      "Tell us your age:  55\n"
     ]
    },
    {
     "name": "stdout",
     "output_type": "stream",
     "text": [
      "You are old enough to vote and drive.\n"
     ]
    }
   ],
   "source": [
    "# If, elif and else statements\n",
    "\n",
    "age = int(input(\"Tell us your age: \"))\n",
    "\n",
    "if age >= 70:\n",
    "    print(\"You can vote, but can not drive\")\n",
    "elif age >= 18:\n",
    "    print(\"You are old enough to vote and drive.\")\n",
    "elif age >= 16:\n",
    "    print(\"You can drive but cannot vote.\")\n",
    "else:\n",
    "    print(\"You cannot drive or vote yet.\") "
   ]
  },
  {
   "cell_type": "code",
   "execution_count": 2,
   "id": "cbc29aca-4b85-463b-93a8-356c2ed073a4",
   "metadata": {},
   "outputs": [
    {
     "name": "stdin",
     "output_type": "stream",
     "text": [
      "Tell us your age:  y\n"
     ]
    },
    {
     "ename": "ValueError",
     "evalue": "invalid literal for int() with base 10: 'y'",
     "output_type": "error",
     "traceback": [
      "\u001b[0;31m---------------------------------------------------------------------------\u001b[0m",
      "\u001b[0;31mValueError\u001b[0m                                Traceback (most recent call last)",
      "Cell \u001b[0;32mIn[2], line 3\u001b[0m\n\u001b[1;32m      1\u001b[0m \u001b[38;5;66;03m# Nested if statements\u001b[39;00m\n\u001b[0;32m----> 3\u001b[0m age \u001b[38;5;241m=\u001b[39m \u001b[38;5;28mint\u001b[39m(\u001b[38;5;28minput\u001b[39m(\u001b[38;5;124m\"\u001b[39m\u001b[38;5;124mTell us your age: \u001b[39m\u001b[38;5;124m\"\u001b[39m))\n\u001b[1;32m      4\u001b[0m gender \u001b[38;5;241m=\u001b[39m \u001b[38;5;28minput\u001b[39m(\u001b[38;5;124m\"\u001b[39m\u001b[38;5;124mTell us your gender: \u001b[39m\u001b[38;5;124m\"\u001b[39m)\n\u001b[1;32m      6\u001b[0m \u001b[38;5;28;01mif\u001b[39;00m age \u001b[38;5;241m>\u001b[39m\u001b[38;5;241m=\u001b[39m \u001b[38;5;241m18\u001b[39m:\n",
      "\u001b[0;31mValueError\u001b[0m: invalid literal for int() with base 10: 'y'"
     ]
    }
   ],
   "source": [
    "# Nested if statements\n",
    "\n",
    "age = int(input(\"Tell us your age: \"))\n",
    "gender = input(\"Tell us your gender: \")\n",
    "\n",
    "if age >= 18:\n",
    "    if gender == \"male\":\n",
    "        print(\"You are a male and old enough to vote.\")\n",
    "    else:\n",
    "        print(\"You are a female and old enough to vote.\")\n",
    "else:\n",
    "    print(\"You are not old enough to vote yet.\")\n"
   ]
  },
  {
   "cell_type": "code",
   "execution_count": 56,
   "id": "d2e43360-abf7-487f-968f-41973c56eac1",
   "metadata": {},
   "outputs": [
    {
     "name": "stdout",
     "output_type": "stream",
     "text": [
      "P\n",
      "y\n",
      "t\n",
      "h\n",
      "o\n",
      "n\n"
     ]
    }
   ],
   "source": [
    "word = \"Python\"\n",
    "\n",
    "for letter in word:\n",
    "    print(letter)"
   ]
  },
  {
   "cell_type": "code",
   "execution_count": 68,
   "id": "ef1c443d-05ae-45fd-872c-2b5b6eee39da",
   "metadata": {},
   "outputs": [
    {
     "name": "stdout",
     "output_type": "stream",
     "text": [
      "P*y*t*h*o*n*"
     ]
    }
   ],
   "source": [
    "# Using the end parameter\n",
    "word = \"Python\"\n",
    "\n",
    "for letter in word:\n",
    "    print(letter, end = \"*\")"
   ]
  },
  {
   "cell_type": "code",
   "execution_count": 74,
   "id": "0f9d51d8-be11-4a99-a19f-284124147de6",
   "metadata": {},
   "outputs": [
    {
     "name": "stdout",
     "output_type": "stream",
     "text": [
      "Python\n",
      "P\n",
      "y\n",
      "t\n",
      "h\n",
      "o\n",
      "n\n",
      "SQL\n",
      "S\n",
      "Q\n",
      "L\n",
      "Java\n",
      "J\n",
      "a\n",
      "v\n",
      "a\n",
      "Excel\n",
      "E\n",
      "x\n",
      "c\n",
      "e\n",
      "l\n",
      "HTML\n",
      "H\n",
      "T\n",
      "M\n",
      "L\n"
     ]
    }
   ],
   "source": [
    "# Using for loops in a list\n",
    "\n",
    "list1 = ['Python', 'SQL', 'Java', 'Excel', 'HTML']\n",
    "\n",
    "for courses in list1:\n",
    "    print(courses)\n",
    "    \n",
    "    for letters in courses:\n",
    "        print(letters)\n",
    "     "
   ]
  },
  {
   "cell_type": "code",
   "execution_count": 76,
   "id": "f09291c3-fe83-4377-b19c-b992b8b118cb",
   "metadata": {},
   "outputs": [
    {
     "name": "stdout",
     "output_type": "stream",
     "text": [
      "The sum of list2 is 450.\n"
     ]
    }
   ],
   "source": [
    "# Finding the sum of a list of numbers\n",
    "list2 = [10, 20, 30, 40, 50, 60, 70, 80, 90]\n",
    "sum  = 0 \n",
    "for num in list2:\n",
    "    sum = sum + num\n",
    "print(f'The sum of list2 is {sum}.')"
   ]
  },
  {
   "cell_type": "code",
   "execution_count": 78,
   "id": "30a35abb-7f6d-432a-b860-5304a00b0bf9",
   "metadata": {},
   "outputs": [
    {
     "name": "stdout",
     "output_type": "stream",
     "text": [
      "The sum of tuple1 is 550.\n"
     ]
    }
   ],
   "source": [
    "# For loop using a tuple.\n",
    "tuple1 = (10, 20, 30, 40, 50, 60, 70, 80, 90, 100)\n",
    "sum  = 0 \n",
    "for num in tuple1:\n",
    "    sum = sum + num\n",
    "print(f\"The sum of tuple1 is {sum}.\")"
   ]
  },
  {
   "cell_type": "code",
   "execution_count": 88,
   "id": "c6095a85-1270-4ad3-85c6-593a618ad486",
   "metadata": {},
   "outputs": [
    {
     "name": "stdout",
     "output_type": "stream",
     "text": [
      "1\n",
      "2\n",
      "3\n",
      "4\n"
     ]
    }
   ],
   "source": [
    "for num in range(1,5):\n",
    "    print(num)"
   ]
  },
  {
   "cell_type": "code",
   "execution_count": 90,
   "id": "ed445832-7d00-4be3-8780-a0cc5d5721e8",
   "metadata": {},
   "outputs": [
    {
     "name": "stdout",
     "output_type": "stream",
     "text": [
      "0\n",
      "1\n",
      "2\n",
      "3\n",
      "4\n"
     ]
    }
   ],
   "source": [
    "for num in range(5):\n",
    "    print(num)"
   ]
  },
  {
   "cell_type": "code",
   "execution_count": 96,
   "id": "54236c9f-c0db-43c4-9e02-2ff6fe8bd986",
   "metadata": {},
   "outputs": [
    {
     "name": "stdout",
     "output_type": "stream",
     "text": [
      "0\n",
      "2\n",
      "4\n",
      "6\n",
      "8\n",
      "10\n",
      "12\n",
      "14\n",
      "16\n",
      "18\n"
     ]
    }
   ],
   "source": [
    "for num in range(0,20,2):\n",
    "    print(num)"
   ]
  },
  {
   "cell_type": "code",
   "execution_count": 100,
   "id": "4ca809a1-1cb4-4fdd-81b7-8b8c4f9a7ced",
   "metadata": {},
   "outputs": [
    {
     "name": "stdout",
     "output_type": "stream",
     "text": [
      "1\n",
      "4\n",
      "7\n",
      "10\n",
      "13\n",
      "16\n"
     ]
    }
   ],
   "source": [
    "for num in range(1,19,3):\n",
    "    print(num)"
   ]
  },
  {
   "cell_type": "code",
   "execution_count": 114,
   "id": "d96a9448-549f-41ba-b212-ddb8e80d6dec",
   "metadata": {},
   "outputs": [
    {
     "name": "stdout",
     "output_type": "stream",
     "text": [
      "0\n",
      "5\n",
      "10\n",
      "15\n",
      "20\n"
     ]
    }
   ],
   "source": [
    "for num in range(0,21,5):\n",
    "    print(num)"
   ]
  },
  {
   "cell_type": "code",
   "execution_count": 120,
   "id": "d6eb586b-7199-44bd-9e78-a2082447dc57",
   "metadata": {},
   "outputs": [
    {
     "name": "stdout",
     "output_type": "stream",
     "text": [
      "20\n",
      "15\n",
      "10\n",
      "5\n"
     ]
    }
   ],
   "source": [
    "for num in range(20,0,-5):\n",
    "    print(num)"
   ]
  },
  {
   "cell_type": "code",
   "execution_count": 132,
   "id": "085e0c9c-c3e8-4d82-ba70-fb66b5139147",
   "metadata": {},
   "outputs": [
    {
     "name": "stdout",
     "output_type": "stream",
     "text": [
      "1\n",
      "2\n",
      "3\n",
      "4\n"
     ]
    }
   ],
   "source": [
    "# Using the break statement \n",
    "for i in range (1,20):\n",
    "    # print(i)\n",
    "    if i == 5:\n",
    "        break\n",
    "    else:\n",
    "        print(i)\n"
   ]
  },
  {
   "cell_type": "code",
   "execution_count": 140,
   "id": "078c4aab-9451-4647-8670-6e51b9666d1f",
   "metadata": {},
   "outputs": [
    {
     "name": "stdout",
     "output_type": "stream",
     "text": [
      "1\n",
      "2\n",
      "3\n",
      "4\n",
      "6\n",
      "7\n",
      "8\n"
     ]
    }
   ],
   "source": [
    "# Using the continue statement \n",
    "for i in range (1,9):\n",
    "    if i == 5:\n",
    "        continue\n",
    "    else:\n",
    "        print(i)"
   ]
  },
  {
   "cell_type": "code",
   "execution_count": 142,
   "id": "0de21e2f-cef8-422a-ba37-f87da1ead281",
   "metadata": {},
   "outputs": [
    {
     "name": "stdout",
     "output_type": "stream",
     "text": [
      "Iteration 0\n",
      "Iteration 1\n",
      "Iteration 2\n",
      "Iteration 3\n",
      "Iteration 4\n"
     ]
    }
   ],
   "source": [
    "for i in range(5):\n",
    "    print(f\"Iteration {i}\")"
   ]
  },
  {
   "cell_type": "code",
   "execution_count": 150,
   "id": "081de63d-726f-4ba1-bcb8-5f5cb0acfa7c",
   "metadata": {},
   "outputs": [
    {
     "name": "stdout",
     "output_type": "stream",
     "text": [
      "Index 0 contains a\n",
      "Index 1 contains b\n",
      "Index 2 contains c\n",
      "Index 3 contains d\n"
     ]
    }
   ],
   "source": [
    "my_list = ['a', 'b', 'c', 'd']\n",
    "l = len(my_list)\n",
    "for i in range(l):\n",
    "    print(f\"Index {i} contains {my_list[i]}\")"
   ]
  },
  {
   "cell_type": "code",
   "execution_count": 154,
   "id": "7c5a352d-73ea-4867-ae7b-9d9e8755cc0e",
   "metadata": {},
   "outputs": [
    {
     "name": "stdout",
     "output_type": "stream",
     "text": [
      "[0, 1, 2, 3, 4, 5, 6, 7, 8, 9]\n",
      "[0, 1, 2, 3, 4, 5, 6, 7, 8, 9]\n"
     ]
    }
   ],
   "source": [
    "numbers = list(range(10))\n",
    "print(numbers) \n",
    "\n",
    "num = range(10)\n",
    "numbers = list(num)\n",
    "print(numbers)\n"
   ]
  },
  {
   "cell_type": "code",
   "execution_count": 164,
   "id": "2f1fc2cb-489b-440c-84ea-9e26e998f0b5",
   "metadata": {},
   "outputs": [
    {
     "name": "stdout",
     "output_type": "stream",
     "text": [
      "Hello, World!\n",
      "Hello, World!\n",
      "Hello, World!\n"
     ]
    }
   ],
   "source": [
    "for i in range(3):\n",
    "    print(\"Hello, World!\")\n"
   ]
  },
  {
   "cell_type": "code",
   "execution_count": 166,
   "id": "60b12d29-47ea-4a15-bfce-e53a2fa43c27",
   "metadata": {},
   "outputs": [
    {
     "name": "stdout",
     "output_type": "stream",
     "text": [
      "Python\n",
      "P\n",
      "y\n",
      "t\n",
      "h\n",
      "o\n",
      "n\n",
      "SQL\n",
      "S\n",
      "Q\n",
      "L\n",
      "Java\n",
      "J\n",
      "a\n",
      "v\n",
      "a\n",
      "Excel\n",
      "E\n",
      "x\n",
      "c\n",
      "e\n",
      "l\n",
      "HTML\n",
      "H\n",
      "T\n",
      "M\n",
      "L\n",
      "Ruby\n",
      "R\n",
      "u\n",
      "b\n",
      "y\n"
     ]
    }
   ],
   "source": [
    "list3 = ['Python', 'SQL', 'Java', 'Excel', 'HTML', 'Ruby'] \n",
    "\n",
    "for courses in list3:\n",
    "    print(courses)\n",
    "    for letters in courses:\n",
    "        print(letters)"
   ]
  },
  {
   "cell_type": "code",
   "execution_count": 189,
   "id": "b221f3f2-595a-490c-b1bf-53429c2c0089",
   "metadata": {},
   "outputs": [
    {
     "name": "stdin",
     "output_type": "stream",
     "text": [
      "Tell us your age. 8\n"
     ]
    },
    {
     "name": "stdout",
     "output_type": "stream",
     "text": [
      "You are not old enough to vote.\n"
     ]
    }
   ],
   "source": [
    "age = int(input(\"Tell us your age.\"))\n",
    "\n",
    "if age >= 18:\n",
    "    print(\"You are old enough to vote.\")\n",
    "else:\n",
    "    print(\"You are not old enough to vote.\") "
   ]
  },
  {
   "cell_type": "markdown",
   "id": "16c1494e-a763-4517-9413-430069d3dda7",
   "metadata": {},
   "source": [
    "Note: Take note of your indentations in python."
   ]
  },
  {
   "cell_type": "code",
   "execution_count": null,
   "id": "1aa9d927-0e0d-4286-b8b7-8f576d4bdffa",
   "metadata": {},
   "outputs": [],
   "source": []
  }
 ],
 "metadata": {
  "kernelspec": {
   "display_name": "Python 3 (ipykernel)",
   "language": "python",
   "name": "python3"
  },
  "language_info": {
   "codemirror_mode": {
    "name": "ipython",
    "version": 3
   },
   "file_extension": ".py",
   "mimetype": "text/x-python",
   "name": "python",
   "nbconvert_exporter": "python",
   "pygments_lexer": "ipython3",
   "version": "3.12.4"
  }
 },
 "nbformat": 4,
 "nbformat_minor": 5
}
